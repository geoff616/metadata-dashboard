{
 "cells": [
  {
   "cell_type": "markdown",
   "metadata": {},
   "source": [
    "##Loading data into ES\n"
   ]
  },
  {
   "cell_type": "code",
   "execution_count": null,
   "metadata": {
    "collapsed": false
   },
   "outputs": [],
   "source": [
    "run fake_data.py #event data tracked with Segment API"
   ]
  },
  {
   "cell_type": "markdown",
   "metadata": {
    "collapsed": true
   },
   "source": [
    "##Manipulating data in ES to run models"
   ]
  },
  {
   "cell_type": "code",
   "execution_count": null,
   "metadata": {
    "collapsed": true
   },
   "outputs": [],
   "source": [
    "#Dump data from elastic search.  Based on index and type send data to appropriate data \n",
    "#manipulation function\n",
    "\n",
    "for data in data_dump.keys():\n",
    "    events = data_dump[data]\n",
    "\n",
    "\n",
    "#Global Meta Data\n",
    "#Transform all categorical data to binary columns\n",
    "\n",
    "    if data.split('_')[0] == 'metadata':\n",
    "        df =DataFrame(events)\n",
    "        df = transform2Binary(df)\n",
    "        \n",
    "        \n",
    "#Intervention\n",
    "#Transform Data to start and end dates of each intervention Type|Label|Start|End\n",
    "#build a during time series that is 0 before intervention and 1 during for each intervention\n",
    "#build an after time series that  is 0 during intervention and 1 after intervention\n",
    "        if data.split('_')[0] == 'intervention':\n",
    "        df = DataFrame(events)\n",
    "        df = intervention2state(df,data.split('_')[1] )\n",
    "        df2 = state2binaries      \n",
    "\n",
    "#Business Event data\n",
    "#Aggregate to day level Day|#of visitors|$Spent|Time on Slope\n",
    "    if data.split('_')[0] == 'segment':\n",
    "        df = DataFrame(events)\n",
    "        df=aggregate(df)\n",
    "\n",
    "#Place output into dict of Dfs\n",
    "    to_index[data] = df \n",
    "\n",
    "#For each intervention, separately join intervention ts to metadata, run regression model, see lift caused by binary 1's\n",
    "liftdict={}\n",
    "for i in to_index:\n",
    "    if i is binary intervention ts\n",
    "    join to metadata\n",
    "    model.fit(joinedmetadata, outcome variable)\n",
    "    liftdict[i]=model.score(), model.significance\n",
    "    \n",
    "#Output sorted lift and significance of lift for during and after time periods for each intervention to highlight what best interventions were\n",
    "sorting algo on liftdict"
   ]
  }
 ],
 "metadata": {
  "kernelspec": {
   "display_name": "Python 2",
   "language": "python",
   "name": "python2"
  },
  "language_info": {
   "codemirror_mode": {
    "name": "ipython",
    "version": 2
   },
   "file_extension": ".py",
   "mimetype": "text/x-python",
   "name": "python",
   "nbconvert_exporter": "python",
   "pygments_lexer": "ipython2",
   "version": "2.7.9"
  }
 },
 "nbformat": 4,
 "nbformat_minor": 0
}
